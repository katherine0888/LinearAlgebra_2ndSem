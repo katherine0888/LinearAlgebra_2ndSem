{
  "nbformat": 4,
  "nbformat_minor": 0,
  "metadata": {
    "colab": {
      "name": "Lab 2 - Plotting Vector using NumPy and MatPlotLib",
      "provenance": [],
      "collapsed_sections": [],
      "authorship_tag": "ABX9TyOH6EfdUO/6W409gX3ffuSz",
      "include_colab_link": true
    },
    "kernelspec": {
      "name": "python3",
      "display_name": "Python 3"
    },
    "language_info": {
      "name": "python"
    }
  },
  "cells": [
    {
      "cell_type": "markdown",
      "metadata": {
        "id": "view-in-github",
        "colab_type": "text"
      },
      "source": [
        "<a href=\"https://colab.research.google.com/github/katherine0888/LinearAlgebra_2ndSem/blob/main/Lab_2_Plotting_Vector_using_NumPy_and_MatPlotLib.ipynb\" target=\"_parent\"><img src=\"https://colab.research.google.com/assets/colab-badge.svg\" alt=\"Open In Colab\"/></a>"
      ]
    },
    {
      "cell_type": "code",
      "execution_count": null,
      "metadata": {
        "id": "MaFM4qpsK5Z5"
      },
      "outputs": [],
      "source": [
        ""
      ]
    },
    {
      "cell_type": "markdown",
      "source": [
        "#Lab 2 - Plotting Vector using NumPy and MatPlotLib"
      ],
      "metadata": {
        "id": "-YREQEn7ZAf2"
      }
    },
    {
      "cell_type": "markdown",
      "source": [
        "In this laboratory we will be discussing the basics of numerical and scientific programming by working with Vectors using NumPy and MatPlotLib.\n",
        "\n",
        "##Objectives\n",
        "At the end of this activity you will be able to:\n",
        "\n",
        "1. Be familiar with the libraries in Python for numerical and scientific programming.\n",
        "2. Visualize vectors through Python programming.\n",
        "3. Perform simple vector operations through code."
      ],
      "metadata": {
        "id": "uKgCggWSY_qs"
      }
    },
    {
      "cell_type": "markdown",
      "source": [
        "##Discussion\n",
        "###NumPy\n",
        "NumPy or Numerical Python, is mainly used for matrix and vector operations. It is capable of declaring computing and representing matrices. Most Python scientific programming libraries uses NumPy as the basic code.\n",
        "\n",
        "Scalars \\ Represent magnitude or a single value\n",
        "\n",
        "Vectors \\ Represent magnitude with directors\n",
        "\n",
        "###Representing Vectors\n",
        "\n",
        "Now that you know how to represent vectors using their component and matrix form we can now hard-code them in Python. Let's say that you have the vectors:\n",
        "\n"
      ],
      "metadata": {
        "id": "mKz1iJbWZdXc"
      }
    },
    {
      "cell_type": "markdown",
      "source": [
        ""
      ],
      "metadata": {
        "id": "WFYVxRkxZ0WF"
      }
    }
  ]
}