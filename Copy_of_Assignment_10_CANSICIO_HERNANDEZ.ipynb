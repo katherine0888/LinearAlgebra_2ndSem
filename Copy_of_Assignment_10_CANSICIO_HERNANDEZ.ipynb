{
  "nbformat": 4,
  "nbformat_minor": 0,
  "metadata": {
    "colab": {
      "name": "Copy of Assignment 10_CANSICIO_HERNANDEZ.ipynb",
      "provenance": [],
      "collapsed_sections": [],
      "include_colab_link": true
    },
    "kernelspec": {
      "name": "python3",
      "display_name": "Python 3"
    },
    "language_info": {
      "name": "python"
    }
  },
  "cells": [
    {
      "cell_type": "markdown",
      "metadata": {
        "id": "view-in-github",
        "colab_type": "text"
      },
      "source": [
        "<a href=\"https://colab.research.google.com/github/katherine0888/LinearAlgebra_2ndSem/blob/main/Copy_of_Assignment_10_CANSICIO_HERNANDEZ.ipynb\" target=\"_parent\"><img src=\"https://colab.research.google.com/assets/colab-badge.svg\" alt=\"Open In Colab\"/></a>"
      ]
    },
    {
      "cell_type": "markdown",
      "source": [
        "#Linear Algebra for ChE"
      ],
      "metadata": {
        "id": "SA25YAd7Y42i"
      }
    },
    {
      "cell_type": "markdown",
      "source": [
        "#Assignment 10 : Linear Combination and Vector Spaces"
      ],
      "metadata": {
        "id": "L0xQpNLERTXi"
      }
    },
    {
      "cell_type": "markdown",
      "source": [
        "Now that you have a fundamental knowledge about linear combination, we'll try to visualize it using scientific programming.\n",
        "\n"
      ],
      "metadata": {
        "id": "G4FcLaQZRUyH"
      }
    },
    {
      "cell_type": "markdown",
      "source": [
        "##Objectives"
      ],
      "metadata": {
        "id": "CPmQ5vWzRWN0"
      }
    },
    {
      "cell_type": "markdown",
      "source": [
        "At the end of this activity you will be able to:\n",
        "1.   Be familiar with representing linear combinations in the 2-dimensional plane.\n",
        "2.   Visualize spans using vector fields in Python.\n",
        "3. Perform vector fields operations using scientific programming.\n",
        "\n",
        "\n"
      ],
      "metadata": {
        "id": "9NqWTQT-RZqJ"
      }
    },
    {
      "cell_type": "markdown",
      "source": [
        "#Discussion"
      ],
      "metadata": {
        "id": "iQDiTBpjRkyt"
      }
    },
    {
      "cell_type": "code",
      "source": [
        "import numpy as np\n",
        "import matplotlib.pyplot as plt\n",
        "%matplotlib inline"
      ],
      "metadata": {
        "id": "V8HJLxyPRm3b"
      },
      "execution_count": null,
      "outputs": []
    },
    {
      "cell_type": "markdown",
      "source": [
        "# Linear Combination\n"
      ],
      "metadata": {
        "id": "kRPjJkkeR6f_"
      }
    },
    {
      "cell_type": "markdown",
      "source": [
        "It is said that a linear combination is the combination of linear scaling and addition of a vector its bases/components\n",
        "\n",
        "We will try to visualize the vectors and their linear combinations by plotting a sample of real number values for the scalars for the vectors. Let's first try the vectors below:"
      ],
      "metadata": {
        "id": "iMKZAyhLR81T"
      }
    },
    {
      "cell_type": "markdown",
      "source": [
        "$$ X = \\begin{bmatrix} 2 \\\\ 5\\end{bmatrix} , Y = \\begin{bmatrix} 7 \\\\ 9\\end{bmatrix}$$\n",
        "\n",
        "\n"
      ],
      "metadata": {
        "id": "u9em9LjmR_n-"
      }
    },
    {
      "cell_type": "code",
      "source": [
        "vectX =  np.array([2,5])\n",
        "vectY =  np.array([7,9])"
      ],
      "metadata": {
        "id": "C8pu-U9jSRvE"
      },
      "execution_count": null,
      "outputs": []
    },
    {
      "cell_type": "markdown",
      "source": [
        "###Span of single vectors\n",
        "As discussed in the lecture, the span of individual vectors can be represented by a line span. Let's take vector $X$ as an example.\n",
        "\n"
      ],
      "metadata": {
        "id": "VblD6FQdSUZr"
      }
    },
    {
      "cell_type": "markdown",
      "source": [
        "$$ X=c \\cdot \\begin{bmatrix} 2 \\\\ 5\\end{bmatrix}$$"
      ],
      "metadata": {
        "id": "j3X96EU7SheV"
      }
    },
    {
      "cell_type": "code",
      "source": [
        "c = np.arange(-10,10,0.25)\n",
        "\n",
        "plt.scatter(c*vectX[0],c*vectX[1])\n",
        "\n",
        "\n",
        "plt.xlim(-10,10)\n",
        "plt.ylim(-10,10)\n",
        "plt.axhline(y=0, color='k')\n",
        "plt.axvline(x=0, color='k')\n",
        "plt.grid()\n",
        "plt.show()"
      ],
      "metadata": {
        "colab": {
          "base_uri": "https://localhost:8080/",
          "height": 269
        },
        "id": "nfgK3vWAS6Jn",
        "outputId": "b7128a86-6fc3-4506-a0c6-1e67dcefed99"
      },
      "execution_count": null,
      "outputs": [
        {
          "output_type": "display_data",
          "data": {
            "text/plain": [
              "<Figure size 432x288 with 1 Axes>"
            ],
            "image/png": "[encoded data removed]"
          },
          "metadata": {
            "needs_background": "light"
          }
        }
      ]
    },
    {
      "cell_type": "markdown",
      "source": [
        "### Span of a linear combination of vectors\n",
        "So what if we are to plot the span of a linear combination of vectors? We can visualize as a plane on the 2-dimensional coordinate system. Let's take the span of the linear combination below:\n",
        "\n",
        "\n"
      ],
      "metadata": {
        "id": "830LLzQFTAlQ"
      }
    },
    {
      "cell_type": "markdown",
      "source": [
        "$$ X=\\begin{Bmatrix}c_{1} \\cdot \\begin{bmatrix} 1 \\\\ 0\\end{bmatrix},c_{2} \\cdot \\begin{bmatrix} 1 \\\\ -10\\end{bmatrix}\\end{Bmatrix}$$\n"
      ],
      "metadata": {
        "id": "WGqabF7dTHsL"
      }
    },
    {
      "cell_type": "code",
      "source": [
        "vectA = np.array([1,0])\n",
        "vectB = np.array([1,-1])\n",
        "R = np.arange(-10,10,1)\n",
        "c1, c2 = np.meshgrid(R,R)\n",
        "vectR = vectA + vectB\n",
        "spanRx = c1*vectA[0] + c2*vectB[0]\n",
        "spanRy = c1*vectA[1] + c2*vectB[1]\n",
        "# plt.scatter(R*vectA[0],R*vectA[1])\n",
        "plt.scatter(spanRx,spanRy, s=5, alpha=0.75)\n",
        "\n",
        "plt.axhline(y=0, color='k')\n",
        "plt.axvline(x=0, color='k')\n",
        "plt.grid()\n",
        "plt.show()"
      ],
      "metadata": {
        "colab": {
          "base_uri": "https://localhost:8080/",
          "height": 265
        },
        "id": "KORELMorVNWf",
        "outputId": "93cacba3-2ffa-4c81-dbd1-e87e6eb4a607"
      },
      "execution_count": null,
      "outputs": [
        {
          "output_type": "display_data",
          "data": {
            "text/plain": [
              "<Figure size 432x288 with 1 Axes>"
            ],
            "image/png": "[encoded data removed]"
          },
          "metadata": {
            "needs_background": "light"
          }
        }
      ]
    },
    {
      "cell_type": "markdown",
      "source": [
        "Take note that if vectors are seen to be as a 2-dimensional span we can say it has a Rank of 2 or $\\mathbb{R}^2$. But if the span of the linear combination of vectors are seen to be like a line, they are said to be <b> linearly dependent </b> and they have a rank of 1 or $\\mathbb{R}^1$."
      ],
      "metadata": {
        "id": "yoypnc7IVQD4"
      }
    },
    {
      "cell_type": "markdown",
      "source": [
        "#Activity"
      ],
      "metadata": {
        "id": "pmO3d6TlWplg"
      }
    },
    {
      "cell_type": "markdown",
      "source": [
        "##Task 1\n",
        "Try different linear combinations using different scalar values. In your methodology discuss the different functions that you have used, the linear equation and vector form of the linear combination, and the flowchart for declaring and displaying linear combinations. Please make sure that your flowchart has only few words and not putting the entire code as it is bad practice. In your results, display and discuss the linear combination visualization you made. You should use the cells below for displaying the equation markdows using LaTeX and your code.\n",
        "\n"
      ],
      "metadata": {
        "id": "KeGCq-QZXp2c"
      }
    },
    {
      "cell_type": "markdown",
      "source": [
        "$$Space \\cdot for \\cdot the \\cdot general \\cdot linear \\cdot equation \\cdot form$$\\\n",
        "$$Space \\cdot for \\cdot the \\cdot vector \\cdot form$$"
      ],
      "metadata": {
        "id": "jMAuhI-kXtSQ"
      }
    },
    {
      "cell_type": "code",
      "source": [
        "### TYPE YOU CODE FOR TASK 1 HERE"
      ],
      "metadata": {
        "id": "2X4aoupHXkiI"
      },
      "execution_count": null,
      "outputs": []
    },
    {
      "cell_type": "markdown",
      "source": [
        "##Discussion Questions\n",
        "Append your discussion at the end of the results section of your report just before your conclusion. Try to answer the following questions. Do not forget to cite your sources.\n",
        "\n"
      ],
      "metadata": {
        "id": "IFsB_YM_YVB7"
      }
    },
    {
      "cell_type": "markdown",
      "source": [
        "1. You might have notices that the dimensions plot of linear combinations change according to its rank. If a vector is $\\mathbb{R}=1$ the plot of its linear combination is one-dimensional or a line, and if $\\mathbb{R}=2$ the plot is a plane. What will be the shape of the vector visualization if $\\mathbb{R} = 3$ and if $\\mathbb{R} = 4$?\n",
        "2. Kindly discuss the role of unit vectors in relation to liner combinations."
      ],
      "metadata": {
        "id": "-XNq9QOKYa7G"
      }
    },
    {
      "cell_type": "markdown",
      "source": [
        "##Conclusion guide\n",
        "For your conclusion synthesize the concept and application of the laboratory. Briefly discuss what you have learn and achieved in this activity. At the end of your conclusion try to answer the question : \"How can you apply the concept of linear combination in engineeing or real-life situations?\"."
      ],
      "metadata": {
        "id": "rpRmwLA3Yu20"
      }
    }
  ]
}